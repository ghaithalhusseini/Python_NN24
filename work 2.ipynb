{
  "cells": [
    {
      "cell_type": "markdown",
      "id": "8f868eb6",
      "metadata": {
        "id": "8f868eb6"
      },
      "source": [
        "# Homework 2 - Python\n",
        "\n",
        "First Name:  Ghaith\n",
        "\n",
        "Last Name:   Al-Husseini\n",
        "\n",
        "Group: Python Module 2"
      ]
    },
    {
      "cell_type": "markdown",
      "id": "f47683d8",
      "metadata": {
        "id": "f47683d8"
      },
      "source": [
        "## Task 1  - Rock, Paper, Scissors (1 point)\n",
        "\n",
        "Let's practice (if, elif, else). In this task you need to write a program that determins the result of the rock, paper, scissors game which is given by two players (Player 1 and Player 2). The program should pring out the result.\n",
        "\n",
        "Rules of the game:\n",
        "- **Paper** beats **rock**\n",
        "- **Scissors** beats **paper**\n",
        "- **Rock** beats **scissors**\n",
        "\n",
        "To understand the logic, write all the combination of the choices for player 1 and player 2 to check the outsomes. It helps you to understand how to write the code.\n",
        "\n",
        "Example of the outcome:\n",
        "```\n",
        "Player 1? scissors\n",
        "Player 2? paper\n",
        "\n",
        "Player 1 wins.\n",
        "```\n",
        "\n",
        "The only valid inputs are `rock`, `paper`, `scissors`. In case the user imported something else, the program prints `\"This input is not valid for our game!\"`"
      ]
    },
    {
      "cell_type": "code",
      "execution_count": null,
      "id": "372b7579",
      "metadata": {
        "id": "372b7579",
        "outputId": "a3899e26-eefe-451d-aa3d-9999ffef8ced"
      },
      "outputs": [
        {
          "name": "stdout",
          "output_type": "stream",
          "text": [
            "Player 1 wins.\n"
          ]
        }
      ],
      "source": [
        "p1 = input(\"Player 1? \").lower()\n",
        "p2 = input(\"Player 2? \").lower()\n",
        "if p1 == p2:\n",
        "    print(\"It's a tie!\")\n",
        "elif (p1 == \"rock\" and p2 == \"scissors\") or (p1 == \"scissors\" and p2 == \"paper\") or (p1 == \"paper\" and p2 == \"rock\"):\n",
        "    print(\"Player 1 wins.\")\n",
        "elif (p2 == \"rock\" and p1 == \"scissors\") or (p2 == \"scissors\" and p1 == \"paper\") or (p2 == \"paper\" and p1 == \"rock\"):\n",
        "    print(\"Player 2 wins.\")\n",
        "else:\n",
        "    print(\"Invalid input!\")"
      ]
    },
    {
      "cell_type": "markdown",
      "id": "d03af2f7",
      "metadata": {
        "id": "d03af2f7"
      },
      "source": [
        "## Task 2 (1 point)\n",
        "\n",
        "Write a program to generate the following output by a for loop:\n",
        "\n",
        "Output:\n",
        "\n",
        "```\n",
        "*\n",
        "**\n",
        "***\n",
        "****\n",
        "*****\n",
        "******\n",
        "*******\n",
        "******\n",
        "*****\n",
        "****\n",
        "***\n",
        "**\n",
        "*\n",
        "```\n"
      ]
    },
    {
      "cell_type": "code",
      "execution_count": null,
      "id": "f35ac27c",
      "metadata": {
        "id": "f35ac27c",
        "outputId": "74365ec2-eec2-4ffe-b81e-afcab8d55ddc"
      },
      "outputs": [
        {
          "name": "stdout",
          "output_type": "stream",
          "text": [
            "*\n",
            "**\n",
            "***\n",
            "****\n",
            "*****\n",
            "******\n",
            "*******\n",
            "******\n",
            "*****\n",
            "****\n",
            "***\n",
            "**\n",
            "*\n"
          ]
        }
      ],
      "source": [
        "rows = 7\n",
        "for i in range(1, rows + 1):\n",
        "    print(\"*\" * i)\n",
        "for i in range(rows - 1, 0, -1):\n",
        "    print(\"*\" * i)"
      ]
    },
    {
      "cell_type": "markdown",
      "id": "89040ea7",
      "metadata": {
        "id": "89040ea7"
      },
      "source": [
        "## Task 3 (1 point)\n",
        "\n",
        "**Step 1**: Write a program that returns a list that contains only the elements that are common between the provided lists (without duplicates). Be sure that your program `also` works on the two lists with different sizes.\n",
        "\n",
        "```\n",
        "a = [2, 2, 3, 1, 1, 1, 1, 3, 2, 2, 6, 5, 4, 7, 8, 31]\n",
        "b = [2, 7, 4, 6, 7, 4, 2, 31, 2, 5, 11, 1, 2, 1, 3, 1, 7, 9, 5]\n",
        "```"
      ]
    },
    {
      "cell_type": "code",
      "execution_count": null,
      "id": "782170f2",
      "metadata": {
        "id": "782170f2",
        "outputId": "01aab7a2-aff7-43ac-d6f6-4237f5422939"
      },
      "outputs": [
        {
          "name": "stdout",
          "output_type": "stream",
          "text": [
            "[1, 2, 3, 4, 5, 6, 7, 31]\n"
          ]
        }
      ],
      "source": [
        "list_a = [2, 2, 3, 1, 1, 1, 1, 3, 2, 2, 6, 5, 4, 7, 8, 31]\n",
        "list_b = [2, 7, 4, 6, 7, 4, 2, 31, 2, 5, 11, 1, 2, 1, 3, 1, 7, 9, 5]\n",
        "print(list(set(list_a) & set(list_b)))"
      ]
    },
    {
      "cell_type": "markdown",
      "id": "248d227a",
      "metadata": {
        "id": "248d227a"
      },
      "source": [
        "**Step 2**: Now try to write the same program in one line."
      ]
    },
    {
      "cell_type": "code",
      "execution_count": null,
      "id": "6e66bf8f",
      "metadata": {
        "id": "6e66bf8f",
        "outputId": "ad430256-7b20-405a-8837-4719d93de563"
      },
      "outputs": [
        {
          "name": "stdout",
          "output_type": "stream",
          "text": [
            "[1, 2, 3, 4, 5, 6, 7, 31]\n"
          ]
        }
      ],
      "source": [
        "print(list(set([2, 2, 3, 1, 1, 1, 1, 3, 2, 2, 6, 5, 4, 7, 8, 31]) & set([2, 7, 4, 6, 7, 4, 2, 31, 2, 5, 11, 1, 2, 1, 3, 1, 7, 9, 5])))\n"
      ]
    },
    {
      "cell_type": "markdown",
      "id": "9f0f0213",
      "metadata": {
        "id": "9f0f0213"
      },
      "source": [
        "## Task 4 (1 point)\n",
        "\n",
        "Write a program to ask the user to insert a string, and print out whether this string is a palindrome or not.\n",
        "\n",
        "**Note:** A string is said to be a palindrome if it is the same if we start reading it from left to right or right to left."
      ]
    },
    {
      "cell_type": "code",
      "execution_count": null,
      "id": "a8905e37",
      "metadata": {
        "id": "a8905e37",
        "outputId": "ee5d821b-07f4-449c-b27d-7d02c15cd453"
      },
      "outputs": [
        {
          "name": "stdout",
          "output_type": "stream",
          "text": [
            "Not Palindrome\n"
          ]
        }
      ],
      "source": [
        "text = input(\"Enter a string: \").lower()\n",
        "if text == text[::-1]:\n",
        "    print(\"Palindrome\")\n",
        "else:\n",
        "    print(\"Not Palindrome\")"
      ]
    },
    {
      "cell_type": "markdown",
      "id": "8a0edbe2",
      "metadata": {
        "id": "8a0edbe2"
      },
      "source": [
        "## Task 5 (1 point)\n",
        "\n",
        "Let's consider we have saved a list in a variable. E.g. `my_list = [2, 5, 4, 4, 6, 7, 5, 6, 9, 22, 23, 44, 32]`\n",
        "\n",
        "Write only one line program that takes this list and makes a new list that has only the odd elements of this list in it."
      ]
    },
    {
      "cell_type": "code",
      "execution_count": null,
      "id": "5414b2cf",
      "metadata": {
        "id": "5414b2cf",
        "outputId": "b6c16673-7e43-47a8-9cd5-7f386347a89c"
      },
      "outputs": [
        {
          "name": "stdout",
          "output_type": "stream",
          "text": [
            "[5, 7, 5, 9, 23]\n"
          ]
        }
      ],
      "source": [
        "numbers = [2, 5, 4, 4, 6, 7, 5, 6, 9, 22, 23, 44, 32]\n",
        "odds = []\n",
        "for num in numbers:\n",
        "    if num % 2 != 0:\n",
        "        odds.append(num)\n",
        "print(odds)"
      ]
    }
  ],
  "metadata": {
    "colab": {
      "provenance": []
    },
    "kernelspec": {
      "display_name": "Python 3",
      "language": "python",
      "name": "python3"
    },
    "language_info": {
      "codemirror_mode": {
        "name": "ipython",
        "version": 3
      },
      "file_extension": ".py",
      "mimetype": "text/x-python",
      "name": "python",
      "nbconvert_exporter": "python",
      "pygments_lexer": "ipython3",
      "version": "3.10.7"
    }
  },
  "nbformat": 4,
  "nbformat_minor": 5
}
