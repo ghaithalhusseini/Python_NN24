{
 "cells": [
  {
   "cell_type": "code",
   "execution_count": null,
   "id": "8jdwTU0SWYhA",
   "metadata": {
    "id": "8jdwTU0SWYhA"
   },
   "outputs": [],
   "source": []
  },
  {
   "cell_type": "markdown",
   "id": "8f868eb6",
   "metadata": {
    "id": "8f868eb6"
   },
   "source": [
    "# Homework 1 - Python\n",
    "\n",
    "First Name: Ghaith \n",
    "\n",
    "Last Name: Al-Husseini\n",
    "\n",
    "Group:\n",
    "\n",
    "### After the assigment is done, please, push it to your [private GitHub repository](https://docs.github.com/en/github/administering-a-repository/managing-repository-settings/setting-repository-visibility) and invite [Majid-Sohrabi](https://github.com/Majid-Sohrabi)  as [collaborator](https://docs.github.com/en/account-and-profile/setting-up-and-managing-your-github-user-account/managing-access-to-your-personal-repositories/inviting-collaborators-to-a-personal-repository)."
   ]
  },
  {
   "cell_type": "markdown",
   "id": "f47683d8",
   "metadata": {
    "id": "f47683d8"
   },
   "source": [
    "## Task 1  (0.5 point)\n",
    "\n",
    "Write a program that takes two numbers as input from the user and prints whether the first number is greater than, less than, or equal to the second number."
   ]
  },
  {
   "cell_type": "code",
   "execution_count": null,
   "id": "2d62ba3d",
   "metadata": {
    "id": "2d62ba3d",
    "outputId": "9fa00cb9-bd71-4d6a-a553-6014b8c5465a"
   },
   "outputs": [
    {
     "name": "stdout",
     "output_type": "stream",
     "text": [
      "The first number is less than the second number.\n"
     ]
    }
   ],
   "source": [
    "a = float(input(\"please enter the first number: \"))\n",
    "b = float(input(\"Please enter the second number: \"))\n",
    "if a > b:\n",
    "    print(\"The first number is greater than the second number.\")\n",
    "elif a < b:\n",
    "    print(\"The first number is less than the second number.\")\n",
    "else:\n",
    "    print(\"The first number is equal to the second number.\")\n"
   ]
  },
  {
   "cell_type": "markdown",
   "id": "d03af2f7",
   "metadata": {
    "id": "d03af2f7"
   },
   "source": [
    "## Task 2 (0.5 point)\n",
    "\n",
    "Write a program that receives a positive integer `N` from the user, the task is to find following formula:\n",
    "\n",
    "$$\n",
    "1^2 + 2^3 + 3^2 + ... + N^2 (or N^3)\n",
    "$$\n",
    "\n",
    "1. If the number is odd then rais to the power of 2.\n",
    "2. If the number is even then rais to the power of 3.\n",
    "\n",
    "\n",
    "Example:\n",
    "\n",
    "$$\n",
    "N = 5\n",
    "$$\n",
    "\n",
    "$$\n",
    "1^2 + 2^3 + 3^2 + 4^3 + 5^2 = (1 + 8 + 9 + 64 + 25) = 107\n",
    "$$\n",
    "\n",
    "The program should work for any arbitrary N from the user."
   ]
  },
  {
   "cell_type": "code",
   "execution_count": null,
   "id": "53894434",
   "metadata": {
    "id": "53894434",
    "outputId": "f8f733b8-0e40-4efe-db4d-590acadebcca"
   },
   "outputs": [
    {
     "name": "stdout",
     "output_type": "stream",
     "text": [
      "The result of the formula is: 107\n"
     ]
    }
   ],
   "source": [
    "N = int(input(\"Enter a positive integer (N): \"))\n",
    "\n",
    "result = 0\n",
    "\n",
    "for i in range(1, N + 1):\n",
    "    if i % 2 == 0:\n",
    "        result += i ** 3\n",
    "    else:\n",
    "        result += i ** 2\n",
    "\n",
    "print(f\"The result of the formula is: {result}\")\n"
   ]
  },
  {
   "cell_type": "markdown",
   "id": "89040ea7",
   "metadata": {
    "id": "89040ea7"
   },
   "source": [
    "## Task 3  (0.5 points)\n",
    "\n",
    "Write a python program to rotate the elements of a list with an arbitrary direction (left or right) and arbitrary number or elements.\n",
    "\n",
    "1. The user need to insert the term ('left' or 'right') which shows the direction of the rotation.\n",
    "2. The user need to insert the number d which specifies how many elements need to be rotated.\n",
    "\n",
    "Example:\n",
    "\n",
    "```\n",
    "List (array) = [1, 2, 3, 4, 5, 6, 7]\n",
    "\n",
    "if left shift by 2 elements:\n",
    "\n",
    "Ooutput = [3, 4, 5, 6, 7, 1, 2]\n",
    "```"
   ]
  },
  {
   "cell_type": "code",
   "execution_count": null,
   "id": "782170f2",
   "metadata": {
    "id": "782170f2",
    "outputId": "d85bb4a9-84e5-4b26-8f3b-651fba9115af"
   },
   "outputs": [
    {
     "name": "stdout",
     "output_type": "stream",
     "text": [
      "[1, 2, 3, 4, 5, 6, 7]\n"
     ]
    }
   ],
   "source": [
    "lst = [1, 2, 3, 4, 5, 6, 7]\n",
    "direction = input().strip().lower()\n",
    "d = int(input())\n",
    "\n",
    "if direction == \"left\":\n",
    "    lst = lst[d:] + lst[:d]\n",
    "elif direction == \"right\":\n",
    "    lst = lst[-d:] + lst[:-d]\n",
    "\n",
    "print(lst)"
   ]
  },
  {
   "cell_type": "markdown",
   "id": "9f0f0213",
   "metadata": {
    "id": "9f0f0213"
   },
   "source": [
    "## Task 4  (0.5 points)\n",
    "\n",
    "Write a program that takes an integer as input and prints whether it is even or odd number."
   ]
  },
  {
   "cell_type": "code",
   "execution_count": null,
   "id": "c79ed191",
   "metadata": {
    "id": "c79ed191",
    "outputId": "33282394-bc96-4878-db17-af912bc28d31"
   },
   "outputs": [
    {
     "name": "stdout",
     "output_type": "stream",
     "text": [
      "Odd\n"
     ]
    }
   ],
   "source": [
    "num = int(input())\n",
    "\n",
    "if num % 2 == 0:\n",
    "    print(\"Even\")\n",
    "else:\n",
    "    print(\"Odd\")"
   ]
  },
  {
   "cell_type": "markdown",
   "id": "8a0edbe2",
   "metadata": {
    "id": "8a0edbe2"
   },
   "source": [
    "## Task 5  (0.5 point)\n",
    "\n",
    "Write a program that splits a list by an index inserted by the user, then cut the list from that index and attach the right part to the beginning of the list.\n",
    "\n",
    "Example:\n",
    "\n",
    "\n",
    "list: [1, 2, 3, 4, **5, 6, 7**]\n",
    "\n",
    "new list: [**5, 6, 7**, 1, 2, 3, 4]"
   ]
  },
  {
   "cell_type": "code",
   "execution_count": null,
   "id": "5414b2cf",
   "metadata": {
    "id": "5414b2cf",
    "outputId": "a060c8bc-9f09-4b21-ca8d-ab4b54f7588a"
   },
   "outputs": [
    {
     "name": "stdout",
     "output_type": "stream",
     "text": [
      "[1, 2, 3, 4, 5, 6, 7]\n"
     ]
    }
   ],
   "source": [
    "l = [1, 2, 3, 4, 5, 6, 7]\n",
    "i = int(input())\n",
    "\n",
    "n = l[i:] + l[:i]\n",
    "\n",
    "print(n)"
   ]
  },
  {
   "cell_type": "markdown",
   "id": "63c550f5",
   "metadata": {
    "id": "63c550f5"
   },
   "source": [
    "## Task 6  (0.5 point)\n",
    "\n",
    "Write a program that takes a numeric grade as input and prints the corresponding letter grade (A, B, C, D, or F) according to the following criteria:\n",
    "\n",
    "- F: 0-59\n",
    "- D: 60-69\n",
    "- C: 70-79\n",
    "- B: 80-89\n",
    "- A: 90-100"
   ]
  },
  {
   "cell_type": "code",
   "execution_count": null,
   "id": "90fcc676",
   "metadata": {
    "id": "90fcc676",
    "outputId": "8e7b76a3-e84e-49e9-fb27-531162459bea"
   },
   "outputs": [
    {
     "name": "stdout",
     "output_type": "stream",
     "text": [
      "F\n"
     ]
    }
   ],
   "source": [
    "g = int(input())\n",
    "\n",
    "if 90 <= g <= 100:\n",
    "    print(\"A\")\n",
    "elif 80 <= g <= 89:\n",
    "    print(\"B\")\n",
    "elif 70 <= g <= 79:\n",
    "    print(\"C\")\n",
    "elif 60 <= g <= 69:\n",
    "    print(\"D\")\n",
    "else:\n",
    "    print(\"F\")"
   ]
  },
  {
   "cell_type": "markdown",
   "id": "7e46ae74",
   "metadata": {
    "id": "7e46ae74"
   },
   "source": [
    "## Task 7  (0.25 point)\n",
    "\n",
    "Write a program that takes a number as input and prints whether it falls within the range of 1 to 100 (inclusive).\n",
    "\n",
    "$$x \\in [0, 100]$$"
   ]
  },
  {
   "cell_type": "code",
   "execution_count": null,
   "id": "142d9d7a",
   "metadata": {
    "id": "142d9d7a",
    "outputId": "eed316d4-f2d9-40ed-a05a-de5ebfae2bf5"
   },
   "outputs": [
    {
     "name": "stdout",
     "output_type": "stream",
     "text": [
      "In range\n"
     ]
    }
   ],
   "source": [
    "x = int(input())\n",
    "\n",
    "if 0 <= x <= 100:\n",
    "    print(\"In range\")\n",
    "else:\n",
    "    print(\"Out of range\")"
   ]
  },
  {
   "cell_type": "markdown",
   "id": "d1d75ffd",
   "metadata": {
    "id": "d1d75ffd"
   },
   "source": [
    "## Task 8  (0.25 point)\n",
    "\n",
    "Write a program that takes a character (letter) as input and prints whether it is a vowel or a consonant."
   ]
  },
  {
   "cell_type": "code",
   "execution_count": null,
   "id": "dec0c2b5",
   "metadata": {
    "id": "dec0c2b5",
    "outputId": "32dd5178-e9a7-4340-a17a-6546033e7c45"
   },
   "outputs": [
    {
     "name": "stdout",
     "output_type": "stream",
     "text": [
      "Consonant\n"
     ]
    }
   ],
   "source": [
    "c = input().lower()\n",
    "\n",
    "if c in 'aeiou':\n",
    "    print(\"Vowel\")\n",
    "else:\n",
    "    print(\"Consonant\")"
   ]
  },
  {
   "cell_type": "markdown",
   "id": "f026862b",
   "metadata": {
    "id": "f026862b"
   },
   "source": [
    "## Task 9  (0.5 point)\n",
    "\n",
    "Write a program that takes a number representing a day of the week (1 for Monday, 2 for Tuesday, etc.) and prints the corresponding day name."
   ]
  },
  {
   "cell_type": "code",
   "execution_count": null,
   "id": "139ad2ab",
   "metadata": {
    "id": "139ad2ab",
    "outputId": "f5b5c2ef-af40-4aa4-c66c-a38a076aaf83"
   },
   "outputs": [
    {
     "name": "stdout",
     "output_type": "stream",
     "text": [
      "Friday\n"
     ]
    }
   ],
   "source": [
    "day = float(input())\n",
    "\n",
    "if day == 1:\n",
    "    print(\"Monday\")\n",
    "elif day == 2:\n",
    "    print(\"Tueday\")\n",
    "elif day == 3:\n",
    "    print(\"Wedday\")\n",
    "elif day == 4:\n",
    "    print(\"Thurday\")\n",
    "elif day == 5:\n",
    "    print(\"Friday\")\n",
    "elif day == 6:\n",
    "    print(\"Satday\")\n",
    "elif day == 7:\n",
    "    print(\"Sunday\")\n",
    "else:\n",
    "    print(\"Invalid day\")"
   ]
  }
 ],
 "metadata": {
  "colab": {
   "provenance": []
  },
  "kernelspec": {
   "display_name": "Python 3",
   "language": "python",
   "name": "python3"
  },
  "language_info": {
   "codemirror_mode": {
    "name": "ipython",
    "version": 3
   },
   "file_extension": ".py",
   "mimetype": "text/x-python",
   "name": "python",
   "nbconvert_exporter": "python",
   "pygments_lexer": "ipython3",
   "version": "3.10.7"
  }
 },
 "nbformat": 4,
 "nbformat_minor": 5
}
